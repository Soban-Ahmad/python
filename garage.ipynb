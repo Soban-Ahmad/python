{
 "cells": [
  {
   "cell_type": "code",
   "execution_count": 4,
   "metadata": {},
   "outputs": [
    {
     "name": "stdout",
     "output_type": "stream",
     "text": [
      "\n",
      "1. Enter Car <function car_enter at 0x0000013D51688558>\n",
      "2. Exit Car <function car_exit at 0x0000013D51688B88>\n",
      "3. Display Cars in Garage\n",
      "4. Quit\n"
     ]
    },
    {
     "name": "stdout",
     "output_type": "stream",
     "text": [
      "The garage is already full. No more cars can enter.\n",
      "\n",
      "1. Enter Car <function car_enter at 0x0000013D51688558>\n",
      "2. Exit Car <function car_exit at 0x0000013D51688B88>\n",
      "3. Display Cars in Garage\n",
      "4. Quit\n",
      "There are not enough cars in the garage to exit.\n",
      "\n",
      "1. Enter Car <function car_enter at 0x0000013D51688558>\n",
      "2. Exit Car <function car_exit at 0x0000013D51688B88>\n",
      "3. Display Cars in Garage\n",
      "4. Quit\n",
      "There are currently 0 cars in the garage\n",
      "\n",
      "1. Enter Car <function car_enter at 0x0000013D51688558>\n",
      "2. Exit Car <function car_exit at 0x0000013D51688B88>\n",
      "3. Display Cars in Garage\n",
      "4. Quit\n",
      "Exiting Program. Goodbye!\n"
     ]
    }
   ],
   "source": [
    "# parking area\n",
    "cars_in_garage = 0\n",
    "garage_capacity = 20\n",
    "\n",
    "def car_exit(num_cars):\n",
    "    global cars_in_garage\n",
    "    if cars_in_garage >= num_cars:\n",
    "        cars_in_garage -= num_cars\n",
    "        print(f\"{num_cars} cars have exited the garage\")\n",
    "    else:\n",
    "        print(\"There are not enough cars in the garage to exit.\")\n",
    "\n",
    "def car_enter(num_cars):\n",
    "    global cars_in_garage\n",
    "    if cars_in_garage + num_cars <= garage_capacity:\n",
    "        cars_in_garage += num_cars\n",
    "        print(f\"{num_cars} cars have entered the garage\")\n",
    "    else:\n",
    "        print(\"The garage is already full. No more cars can enter.\")\n",
    "\n",
    "def display_cars_in_garage():\n",
    "    print(f\"There are currently {cars_in_garage} cars in the garage\")\n",
    "\n",
    "def enter_cars_amount():\n",
    "    try:\n",
    "        num_cars = int(input(\"Enter the number of cars entering: \"))\n",
    "        if num_cars < 0:\n",
    "            print(\"Invalid input. Number of cars must be non-negative.\")\n",
    "            return 0\n",
    "        else:\n",
    "            return num_cars\n",
    "    except ValueError:\n",
    "        print(\"Invalid input. Please enter a valid number.\")\n",
    "        return 0\n",
    "\n",
    "def exit_cars_amount():\n",
    "    try:\n",
    "        num_cars = int(input(\"Enter the number of cars exiting: \"))\n",
    "        if num_cars < 0:\n",
    "            print(\"Invalid input. Number of cars must be non-negative.\")\n",
    "            return 0\n",
    "        else:\n",
    "            return num_cars\n",
    "    except ValueError:\n",
    "        print(\"Invalid input. Please enter a valid number.\")\n",
    "        return 0\n",
    "\n",
    "while True:\n",
    "    print(\"\\n1. Enter Car(s)\")\n",
    "    print(\"2. Exit Car(s)\")\n",
    "    print(\"3. Display Cars in Garage\")\n",
    "    print(\"4. Quit\")\n",
    "\n",
    "    choice = input(\"Enter Your Choice: \")\n",
    "\n",
    "    if choice == '1':\n",
    "        num_cars = enter_cars_amount()\n",
    "        car_enter(num_cars)\n",
    "    elif choice == '2':\n",
    "        num_cars = exit_cars_amount()\n",
    "        car_exit(num_cars)\n",
    "    elif choice == '3':\n",
    "        display_cars_in_garage()\n",
    "    elif choice == '4':\n",
    "        print(\"Exiting Program. Goodbye!\")\n",
    "        break\n",
    "    else:\n",
    "        print(\"Invalid Choice. Please Enter a Valid Choice.\")\n"
   ]
  }
 ],
 "metadata": {
  "kernelspec": {
   "display_name": "Python 3",
   "language": "python",
   "name": "python3"
  },
  "language_info": {
   "codemirror_mode": {
    "name": "ipython",
    "version": 3
   },
   "file_extension": ".py",
   "mimetype": "text/x-python",
   "name": "python",
   "nbconvert_exporter": "python",
   "pygments_lexer": "ipython3",
   "version": "3.7.9"
  }
 },
 "nbformat": 4,
 "nbformat_minor": 2
}
