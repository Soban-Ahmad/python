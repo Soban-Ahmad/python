{
 "cells": [
  {
   "cell_type": "code",
   "execution_count": 31,
   "metadata": {},
   "outputs": [],
   "source": [
    "def add(a,b):\n",
    "    sum=a+b\n",
    "    print(sum)\n",
    "def sub(a,b):\n",
    "    minus=a-b\n",
    "    print(minus)\n",
    "def multiply(a,b):\n",
    "    multiple=a*b\n",
    "    print(multiple)\n",
    "def devide(a,b):\n",
    "    devision=a/b  \n",
    "    print(devision)\n",
    "def percentage(a, b):\n",
    "    perc = a / b * 100\n",
    "    print(\"{:.2f}%\".format(perc))"
   ]
  },
  {
   "cell_type": "code",
   "execution_count": 32,
   "metadata": {},
   "outputs": [
    {
     "name": "stdout",
     "output_type": "stream",
     "text": [
      "67\n",
      "10\n",
      "300\n",
      "2.0\n",
      "100.00%\n"
     ]
    }
   ],
   "source": [
    "add(7,60)\n",
    "sub(90,80)\n",
    "multiply(15,20)\n",
    "devide(12,6)\n",
    "percentage(600,600)"
   ]
  },
  {
   "cell_type": "code",
   "execution_count": 33,
   "metadata": {},
   "outputs": [
    {
     "name": "stdout",
     "output_type": "stream",
     "text": [
      "this is not the part of function\n"
     ]
    }
   ],
   "source": [
    "def funt(pram):\n",
    "    print(\"this is part of function and we can get value of prams here\")\n",
    "    print(pram)\n",
    "print(\"this is not the part of function\")"
   ]
  },
  {
   "cell_type": "code",
   "execution_count": 34,
   "metadata": {},
   "outputs": [
    {
     "name": "stdout",
     "output_type": "stream",
     "text": [
      "56\n",
      "22\n",
      "12\n"
     ]
    }
   ],
   "source": [
    "x=56\n",
    "print(x)\n",
    "y=22\n",
    "print(y)\n",
    "z=12\n",
    "print(z)"
   ]
  },
  {
   "cell_type": "code",
   "execution_count": 35,
   "metadata": {},
   "outputs": [
    {
     "name": "stdout",
     "output_type": "stream",
     "text": [
      "person 2 is bigger then person1\n"
     ]
    }
   ],
   "source": [
    "person1=input(\"enter your age \")\n",
    "person2=input(\"enter your age \")\n",
    "\n",
    "if(person1>person2):\n",
    "    print(\"person 1 is bigger then person2\")\n",
    "else:\n",
    "    print(\"person 2 is bigger then person1\")"
   ]
  },
  {
   "cell_type": "code",
   "execution_count": 36,
   "metadata": {},
   "outputs": [
    {
     "name": "stdout",
     "output_type": "stream",
     "text": [
      "4 is bigger then 3\n"
     ]
    }
   ],
   "source": [
    "person1=input( \" enter your name\")\n",
    "agePerson1=input(person1+\" enter your age\")\n",
    "person2=input(\" enter your name\")\n",
    "agePerson2=input(person2+\" enter your age\")\n",
    "\n",
    "\n",
    "if(agePerson1>agePerson2):\n",
    "    print(person1+\" is bigger then\" ,person2)\n",
    "else:\n",
    "    print(person2+\" is bigger then\" ,person1)"
   ]
  },
  {
   "cell_type": "code",
   "execution_count": 37,
   "metadata": {},
   "outputs": [
    {
     "name": "stdout",
     "output_type": "stream",
     "text": [
      "your name is : 4\n",
      "Your address is : dd\n",
      "Your skill is : \n"
     ]
    }
   ],
   "source": [
    "\n",
    "name=input(\"enter name : \")\n",
    "address = input(\"enter address : \")\n",
    "skill = input(\"enter your skils : \")\n",
    "print(\"your name is : \" + name)\n",
    "print(\"Your address is : \" + address)\n",
    "print(\"Your skill is : \" + skill)"
   ]
  },
  {
   "cell_type": "code",
   "execution_count": 38,
   "metadata": {},
   "outputs": [],
   "source": [
    "def addSubjectMarks(m,p,c,u,e,i):\n",
    "   \n",
    "    mysum= int(m)+int(p)+int(u)+int(e)+int(i)+int(c)\n",
    "    \n",
    "    return mysum\n",
    "    "
   ]
  },
  {
   "cell_type": "code",
   "execution_count": 39,
   "metadata": {},
   "outputs": [
    {
     "ename": "ValueError",
     "evalue": "invalid literal for int() with base 10: ''",
     "output_type": "error",
     "traceback": [
      "\u001b[1;31m---------------------------------------------------------------------------\u001b[0m",
      "\u001b[1;31mValueError\u001b[0m                                Traceback (most recent call last)",
      "\u001b[1;32m~\\AppData\\Local\\Temp\\ipykernel_13788\\145992650.py\u001b[0m in \u001b[0;36m<module>\u001b[1;34m\u001b[0m\n\u001b[0;32m      7\u001b[0m \u001b[0murdu\u001b[0m\u001b[1;33m=\u001b[0m\u001b[0minput\u001b[0m\u001b[1;33m(\u001b[0m\u001b[1;34m\"enter urdu Marks\"\u001b[0m\u001b[1;33m)\u001b[0m\u001b[1;33m\u001b[0m\u001b[1;33m\u001b[0m\u001b[0m\n\u001b[0;32m      8\u001b[0m \u001b[0mislamyat\u001b[0m\u001b[1;33m=\u001b[0m\u001b[0minput\u001b[0m\u001b[1;33m(\u001b[0m\u001b[1;34m\"enter islamyat marks\"\u001b[0m\u001b[1;33m)\u001b[0m\u001b[1;33m\u001b[0m\u001b[1;33m\u001b[0m\u001b[0m\n\u001b[1;32m----> 9\u001b[1;33m \u001b[0mobtainedMarks\u001b[0m \u001b[1;33m=\u001b[0m \u001b[0maddSubjectMarks\u001b[0m\u001b[1;33m(\u001b[0m\u001b[0mmaths\u001b[0m\u001b[1;33m,\u001b[0m\u001b[0mphysics\u001b[0m\u001b[1;33m,\u001b[0m\u001b[0mchemistry\u001b[0m\u001b[1;33m,\u001b[0m\u001b[0menglish\u001b[0m\u001b[1;33m,\u001b[0m\u001b[0murdu\u001b[0m\u001b[1;33m,\u001b[0m\u001b[0mislamyat\u001b[0m\u001b[1;33m)\u001b[0m\u001b[1;33m\u001b[0m\u001b[1;33m\u001b[0m\u001b[0m\n\u001b[0m\u001b[0;32m     10\u001b[0m \u001b[0mprint\u001b[0m\u001b[1;33m(\u001b[0m\u001b[0mperson1\u001b[0m   \u001b[1;33m,\u001b[0m         \u001b[1;34m\"your Total Marks is : \"\u001b[0m \u001b[1;33m,\u001b[0m \u001b[0mobtainedMarks\u001b[0m\u001b[1;33m)\u001b[0m\u001b[1;33m\u001b[0m\u001b[1;33m\u001b[0m\u001b[0m\n\u001b[0;32m     11\u001b[0m \u001b[0mtotalmarks\u001b[0m \u001b[1;33m=\u001b[0m \u001b[1;36m600\u001b[0m\u001b[1;33m\u001b[0m\u001b[1;33m\u001b[0m\u001b[0m\n",
      "\u001b[1;32m~\\AppData\\Local\\Temp\\ipykernel_13788\\236873886.py\u001b[0m in \u001b[0;36maddSubjectMarks\u001b[1;34m(m, p, c, u, e, i)\u001b[0m\n\u001b[0;32m      1\u001b[0m \u001b[1;32mdef\u001b[0m \u001b[0maddSubjectMarks\u001b[0m\u001b[1;33m(\u001b[0m\u001b[0mm\u001b[0m\u001b[1;33m,\u001b[0m\u001b[0mp\u001b[0m\u001b[1;33m,\u001b[0m\u001b[0mc\u001b[0m\u001b[1;33m,\u001b[0m\u001b[0mu\u001b[0m\u001b[1;33m,\u001b[0m\u001b[0me\u001b[0m\u001b[1;33m,\u001b[0m\u001b[0mi\u001b[0m\u001b[1;33m)\u001b[0m\u001b[1;33m:\u001b[0m\u001b[1;33m\u001b[0m\u001b[1;33m\u001b[0m\u001b[0m\n\u001b[0;32m      2\u001b[0m \u001b[1;33m\u001b[0m\u001b[0m\n\u001b[1;32m----> 3\u001b[1;33m     \u001b[0mmysum\u001b[0m\u001b[1;33m=\u001b[0m \u001b[0mint\u001b[0m\u001b[1;33m(\u001b[0m\u001b[0mm\u001b[0m\u001b[1;33m)\u001b[0m\u001b[1;33m+\u001b[0m\u001b[0mint\u001b[0m\u001b[1;33m(\u001b[0m\u001b[0mp\u001b[0m\u001b[1;33m)\u001b[0m\u001b[1;33m+\u001b[0m\u001b[0mint\u001b[0m\u001b[1;33m(\u001b[0m\u001b[0mu\u001b[0m\u001b[1;33m)\u001b[0m\u001b[1;33m+\u001b[0m\u001b[0mint\u001b[0m\u001b[1;33m(\u001b[0m\u001b[0me\u001b[0m\u001b[1;33m)\u001b[0m\u001b[1;33m+\u001b[0m\u001b[0mint\u001b[0m\u001b[1;33m(\u001b[0m\u001b[0mi\u001b[0m\u001b[1;33m)\u001b[0m\u001b[1;33m+\u001b[0m\u001b[0mint\u001b[0m\u001b[1;33m(\u001b[0m\u001b[0mc\u001b[0m\u001b[1;33m)\u001b[0m\u001b[1;33m\u001b[0m\u001b[1;33m\u001b[0m\u001b[0m\n\u001b[0m\u001b[0;32m      4\u001b[0m \u001b[1;33m\u001b[0m\u001b[0m\n\u001b[0;32m      5\u001b[0m     \u001b[1;32mreturn\u001b[0m \u001b[0mmysum\u001b[0m\u001b[1;33m\u001b[0m\u001b[1;33m\u001b[0m\u001b[0m\n",
      "\u001b[1;31mValueError\u001b[0m: invalid literal for int() with base 10: ''"
     ]
    }
   ],
   "source": [
    "person1=input(\"1 enter your name\")\n",
    "MarksPerson1=input(person1)\n",
    "maths=input(\"enter Maths Marks\")\n",
    "physics=input(\"enter Physcis Marks\")\n",
    "chemistry=input(\"enter Chemistry Marks\")\n",
    "english=input(\"enter english Marks\")\n",
    "urdu=input(\"enter urdu Marks\")\n",
    "islamyat=input(\"enter islamyat marks\")\n",
    "obtainedMarks = addSubjectMarks(maths,physics,chemistry,english,urdu,islamyat)\n",
    "print(person1   ,         \"your Total Marks is : \" , obtainedMarks)\n",
    "totalmarks = 600\n",
    "percentage = (obtainedMarks/totalmarks) * 100\n",
    "print(person1    ,  \" Got \" , \"{:.2f}%\".format(percentage))\n",
    "\n",
    "person2=input(\"2 enter your name\")\n",
    "MarksPerson2=input(person2)\n",
    "maths=input(\"enter Maths Marks\")\n",
    "physics=input(\"enter Physcis Marks\")\n",
    "chemistry=input(\"enter Chemistry Marks\")\n",
    "english=input(\"enter english Marks\")\n",
    "urdu=input(\"enter urdu Marks\")\n",
    "islamyat=input(\"enter islamyat marks\")\n",
    "obtainedMarks = addSubjectMarks(maths,physics,chemistry,english,urdu,islamyat)\n",
    "print(person2  , \"your Total Marks is :  \" , obtainedMarks)\n",
    "totalmarks = 600\n",
    "percentage = (obtainedMarks/totalmarks) * 100\n",
    "print(person2 ,  \" Got \" , \"{:.2f}%\".format(percentage))\n",
    "\n",
    "if(MarksPerson1>MarksPerson2):\n",
    "    print(person1 +  \" Got heigher marks then \" , person2)\n",
    "else:\n",
    "    print(person2 +  \" Got less marks then\" , person1)\n"
   ]
  },
  {
   "cell_type": "code",
   "execution_count": null,
   "metadata": {},
   "outputs": [
    {
     "name": "stdout",
     "output_type": "stream",
     "text": [
      "Two or more persons have the same age.\n"
     ]
    }
   ],
   "source": [
    "person1 = input(\"Enter your name: \")\n",
    "agePerson1 = int(input(\"Enter your age, {}: \".format(person1)))\n",
    "person2 = input(\"Enter your name: \")\n",
    "agePerson2 = int(input(\"Enter your age, {}: \".format(person2)))\n",
    "person3 = input(\"Enter your name: \")\n",
    "agePerson3 = int(input(\"Enter your age, {}: \".format(person3)))\n",
    "\n",
    "if agePerson1 > agePerson2 and agePerson1 > agePerson3:\n",
    "    print(person1, \"is older than\", person2, \"and\", person3)\n",
    "elif agePerson2 > agePerson1 and agePerson2 > agePerson3:\n",
    "    print(person2, \"is older than\", person1, \"and\", person3)\n",
    "elif agePerson3 > agePerson1 and agePerson3 > agePerson2:\n",
    "    print(person3, \"is older than\", person1, \"and\", person2)\n",
    "else:\n",
    "    print(\"Two or more persons have the same age.\")\n",
    "\n",
    "\n"
   ]
  },
  {
   "cell_type": "code",
   "execution_count": null,
   "metadata": {},
   "outputs": [],
   "source": [
    "maths=input(\"enter Maths Marks\")\n",
    "physics=input(\"enter Physcis Marks\")\n",
    "chemistry=input(\"enter Chemistry Marks\")\n",
    "english=input(\"enter english Marks\")\n",
    "urdu=input(\"enter urdu Marks\")\n",
    "islamyat=input(\"enter islamyat marks\")\n",
    "obtainedMarks = addSubjectMarks(maths,physics,chemistry,english,urdu,islamyat)\n",
    "print(\"your Total Marks is :  \" , obtainedMarks)\n",
    "totalmarks = 600\n",
    "percentage = (obtainedMarks/totalmarks) * 100\n",
    "print(\"You Got \" , percentage , \"%\")"
   ]
  },
  {
   "cell_type": "code",
   "execution_count": 26,
   "metadata": {},
   "outputs": [
    {
     "name": "stdout",
     "output_type": "stream",
     "text": [
      "there r currently 3 cars in the garage\n",
      "A car has enter the garage\n",
      "there r currently 11 cars in the garage\n",
      "car has exit the garage\n",
      "there r currently 6 cars in the garage\n"
     ]
    }
   ],
   "source": [
    "display_cars_in_garage()\n",
    "car_enter(8)\n",
    "display_cars_in_garage()\n",
    "car_exit(5)\n",
    "display_cars_in_garage()"
   ]
  },
  {
   "cell_type": "code",
   "execution_count": 91,
   "metadata": {},
   "outputs": [
    {
     "name": "stdout",
     "output_type": "stream",
     "text": [
      "A car has enter the garage\n",
      "loop ended\n"
     ]
    }
   ],
   "source": [
    "loopHandler=True\n",
    "while(loopHandler):\n",
    "    x=int(input(\"Press 1 for enter car \\n 2 for exit car \\n press 0 to exit\"))\n",
    "    if(x==0):\n",
    "        loopHandler=False\n",
    "    elif(x==1):\n",
    "      car_enter(1)\n",
    "# print(\"loop ended\")\n",
    "    "
   ]
  },
  {
   "cell_type": "code",
   "execution_count": 47,
   "metadata": {},
   "outputs": [
    {
     "name": "stdout",
     "output_type": "stream",
     "text": [
      "hey i am a good \"desiner\" \n",
      " and viewer r also a good \"designer.\"\n",
      "hello =50.02\n",
      "unknown\n"
     ]
    }
   ],
   "source": [
    "# comment multiple lines by using sytx caracter (''')(\"\"\")\n",
    "# split line use (\\n) \n",
    "# escape sequence character (\\\"any words \\\")\n",
    "print(\"hey i am a good \\\"desiner\\\" \\n and viewer r also a good \\\"designer.\\\"\")\n",
    "# what we will write btw multiple value so use (sep=\"\")\n",
    "print(\"hello \" ,300/600*100 ,sep=\"=\" , end=\"2\\n\" )\n",
    "print(\"unknown\")"
   ]
  },
  {
   "cell_type": "code",
   "execution_count": 76,
   "metadata": {},
   "outputs": [
    {
     "name": "stdout",
     "output_type": "stream",
     "text": [
      "1\n",
      "True\n",
      "hello\n",
      "None\n",
      "1.1\n",
      "(15+3j)\n",
      "\n",
      " addition of a and a1 is= 10 \n",
      " substraction of a and a1 is = -8 \n",
      " devision of a and a1 is = 0.111 \n",
      " multipication of a and a1 is = 9 \n",
      " percentage of a and a1 is = 11.11%\n",
      "\n",
      "the type of a is <class 'int'>\n",
      "the type of b is <class 'bool'>\n",
      "the type of c is <class 'str'>\n",
      "the type of d is <class 'NoneType'>\n",
      "the type of e is <class 'float'>\n",
      "the type of f is <class 'complex'>\n"
     ]
    }
   ],
   "source": [
    "a=1\n",
    "b=True \n",
    "# \"boolan value only (true or false)\"\n",
    "c=\"hello\"\n",
    "d=None\n",
    "a1=9\n",
    "e=1.1\n",
    "f=complex(7+8,0+3)\n",
    "percentage=a/a1*100\n",
    "division=a/a1\n",
    "print(a)\n",
    "print(b)\n",
    "print(c)\n",
    "print(d)\n",
    "print(e)\n",
    "print(f)\n",
    "print(\"\\n addition of a and a1 is=\",a+a1 ,\"\\n\",\"substraction of a and a1 is =\",a-a1, \"\\n\",\"devision of a and a1 is =\",\"{:.3f}\".format(division), \"\\n\",\"multipication of a and a1 is =\",a*a1, \"\\n\",\"percentage of a and a1 is =\",\"{:.2f}%\".format(percentage))\n",
    "print(\"\\nthe type of a is\" ,type(a))\n",
    "print(\"the type of b is\" ,type(b))\n",
    "print(\"the type of c is\" ,type(c))\n",
    "print(\"the type of d is\" ,type(d))\n",
    "print(\"the type of e is\" ,type(e))\n",
    "print(\"the type of f is\" ,type(f))\n"
   ]
  },
  {
   "cell_type": "code",
   "execution_count": 4,
   "metadata": {},
   "outputs": [
    {
     "name": "stdout",
     "output_type": "stream",
     "text": [
      "[1, 2, 3, 4, 5, 6, 7, 8, 9]\n",
      "9\n",
      "(('lion', 'parrot'), ('sparrow', 'elephant'))\n",
      "{'name': 'ahmad', 'age': 20, 'canVote': True}\n",
      "1.0\n",
      "1\n",
      "4\n",
      "25\n",
      "The sum of  both number is : 19\n"
     ]
    }
   ],
   "source": [
    "list=[1,2,3,4,5,6,7,8,9]\n",
    "print(list)\n",
    "print(list [8])\n",
    "tuple = ((\"lion\",\"parrot\"),(\"sparrow\",\"elephant\"))\n",
    "print(tuple)\n",
    "dict = {\"name\":\"ahmad\" , \"age\":20,\"canVote\":True}\n",
    "print(dict)\n",
    "print(20/20)\n",
    "print(20//20)\n",
    "print(4%40)\n",
    "print(5**2)\n",
    "\n",
    "string=\"12\"\n",
    "number=7\n",
    "string_number=int(string)\n",
    "sum=number+string_number\n",
    "print(\"The sum of  both number is :\" , sum)"
   ]
  },
  {
   "cell_type": "code",
   "execution_count": 9,
   "metadata": {},
   "outputs": [
    {
     "name": "stdout",
     "output_type": "stream",
     "text": [
      "l o\n",
      "l\n",
      "o\n",
      "r\n",
      "e\n",
      "m\n",
      " \n",
      "l\n",
      "i\n",
      "p\n",
      "s\n",
      "u\n",
      "m\n"
     ]
    }
   ],
   "source": [
    "lorem= \"lorem lipsum\"\n",
    "print(lorem[0],lorem[1])\n",
    "\n",
    "for character in lorem:\n",
    "    print(character)"
   ]
  },
  {
   "cell_type": "code",
   "execution_count": 52,
   "metadata": {},
   "outputs": [
    {
     "name": "stdout",
     "output_type": "stream",
     "text": [
      "\n",
      "1. Enter a Car\n",
      "\n",
      "2. Exit a Car\n",
      "\n",
      "3. Display Cars in Garage\n",
      "\n",
      "4. Quit\n",
      "2 cars have entered the garage\n",
      "\n",
      "1. Enter a Car\n",
      "\n",
      "2. Exit a Car\n",
      "\n",
      "3. Display Cars in Garage\n",
      "\n",
      "4. Quit\n",
      "There are not enough cars in the garage to exit.\n",
      "\n",
      "1. Enter a Car\n",
      "\n",
      "2. Exit a Car\n",
      "\n",
      "3. Display Cars in Garage\n",
      "\n",
      "4. Quit\n",
      "there r currently 2 cars in the garage\n",
      "\n",
      "1. Enter a Car\n",
      "\n",
      "2. Exit a Car\n",
      "\n",
      "3. Display Cars in Garage\n",
      "\n",
      "4. Quit\n",
      "Exiting Programe. Goodbye!\n"
     ]
    }
   ],
   "source": [
    "# parking area\n",
    "cars_in_garage=0\n",
    "garage_capcity=100\n",
    "def car_exit(num_cars):\n",
    "    global cars_in_garage\n",
    "    if cars_in_garage >= num_cars:\n",
    "        cars_in_garage -= num_cars\n",
    "        print(f\"{num_cars} cars have exited the garage\")\n",
    "    else:\n",
    "        print(\"There are not enough cars in the garage to exit.\")\n",
    "        \n",
    "def car_enter(num_cars):\n",
    "    global cars_in_garage\n",
    "    if cars_in_garage + num_cars <= garage_capcity:\n",
    "       cars_in_garage +=  num_cars\n",
    "       print(f\"{num_cars} cars have entered the garage\") \n",
    "    else :\n",
    "        print(\"The garage is already full:no more cars can enter.\")\n",
    "def display_cars_in_garage():\n",
    "    print(f\"there r currently {cars_in_garage} cars in the garage\")\n",
    "    \n",
    "def enter_cars_amount():\n",
    "    try:\n",
    "        num_cars=int(input(\"Enter the number of cars Entering:\"))\n",
    "        if num_cars<0:\n",
    "            print(\"Invalid input. Number of cars must be non-negative.\") \n",
    "            return 0\n",
    "        else:\n",
    "            return num_cars\n",
    "    except ValueError:\n",
    "        print(\"Invalid input. Please enter a valid number.\")\n",
    "        return 0\n",
    "def exit_cars_amount():\n",
    "    try:\n",
    "        num_cars = int(input(\"Enter the number of cars exiting: \"))\n",
    "        if num_cars < 0:\n",
    "            print(\"Invalid input. Number of cars must be non-negative.\")\n",
    "            return 0\n",
    "        else:\n",
    "            return num_cars\n",
    "    except ValueError:\n",
    "        print(\"Invalid input. Please enter a valid number.\")\n",
    "        return 0\n",
    "while True:\n",
    "    print(\"\\n1. Enter a Car\")\n",
    "    print(\"\\n2. Exit a Car\")\n",
    "    print(\"\\n3. Display Cars in Garage\")\n",
    "    print(\"\\n4. Quit\")\n",
    "    \n",
    "    choice = input(\"Enter Your Choice :\")\n",
    "    \n",
    "    if choice=='1':\n",
    "        num_cars = enter_cars_amount()\n",
    "        car_enter(num_cars)\n",
    "    elif choice=='2':\n",
    "        num_cars = exit_cars_amount()\n",
    "        car_exit(num_cars)\n",
    "    elif choice=='3':\n",
    "        display_cars_in_garage()\n",
    "    elif choice=='4':\n",
    "        print(\"Exiting Programe. Goodbye!\")\n",
    "        break\n",
    "    else:\n",
    "        print(\"Invalid Choice . Please Enter a Valid Choice.\")"
   ]
  }
 ],
 "metadata": {
  "kernelspec": {
   "display_name": "Python 3",
   "language": "python",
   "name": "python3"
  },
  "language_info": {
   "codemirror_mode": {
    "name": "ipython",
    "version": 3
   },
   "file_extension": ".py",
   "mimetype": "text/x-python",
   "name": "python",
   "nbconvert_exporter": "python",
   "pygments_lexer": "ipython3",
   "version": "3.7.9"
  }
 },
 "nbformat": 4,
 "nbformat_minor": 2
}
